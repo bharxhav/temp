{
 "cells": [
  {
   "cell_type": "code",
   "execution_count": 1,
   "metadata": {},
   "outputs": [],
   "source": [
    "import imagej"
   ]
  },
  {
   "cell_type": "code",
   "execution_count": 2,
   "metadata": {},
   "outputs": [
    {
     "name": "stderr",
     "output_type": "stream",
     "text": [
      "WARNING: package sun.awt.X11 not in java.desktop\n"
     ]
    }
   ],
   "source": [
    "ij = imagej.init('sc.fiji:fiji')"
   ]
  },
  {
   "cell_type": "code",
   "execution_count": 3,
   "metadata": {},
   "outputs": [],
   "source": [
    "temp_macro = 'print(\"Hello World!\")'"
   ]
  },
  {
   "cell_type": "code",
   "execution_count": 5,
   "metadata": {},
   "outputs": [
    {
     "name": "stdout",
     "output_type": "stream",
     "text": [
      "Hello World!\n"
     ]
    },
    {
     "data": {
      "text/plain": [
       "<java object 'org.scijava.script.ScriptModule'>"
      ]
     },
     "execution_count": 5,
     "metadata": {},
     "output_type": "execute_result"
    }
   ],
   "source": [
    "ij.py.run_macro(temp_macro)"
   ]
  },
  {
   "cell_type": "code",
   "execution_count": 51,
   "metadata": {},
   "outputs": [
    {
     "data": {
      "text/plain": [
       "4"
      ]
     },
     "execution_count": 51,
     "metadata": {},
     "output_type": "execute_result"
    }
   ],
   "source": [
    "import os\n",
    "\n",
    "macros = [open('./macros/' + f).read() for f in sorted(os.listdir('./macros')) if '.ijm' in f]\n",
    "\n",
    "len(macros)"
   ]
  },
  {
   "cell_type": "code",
   "execution_count": 52,
   "metadata": {},
   "outputs": [],
   "source": [
    "cropped_dir = './cropped/'\n",
    "inverted_dir = './inverted/'\n",
    "os.makedirs(cropped_dir, exist_ok=True)\n",
    "os.makedirs(inverted_dir, exist_ok=True)"
   ]
  },
  {
   "cell_type": "code",
   "execution_count": 53,
   "metadata": {},
   "outputs": [
    {
     "name": "stdout",
     "output_type": "stream",
     "text": [
      "1.7195E12\n"
     ]
    },
    {
     "data": {
      "text/plain": [
       "<java object 'org.scijava.script.ScriptModule'>"
      ]
     },
     "execution_count": 53,
     "metadata": {},
     "output_type": "execute_result"
    }
   ],
   "source": [
    "ij.py.run_macro(macros[0])"
   ]
  },
  {
   "cell_type": "code",
   "execution_count": 54,
   "metadata": {},
   "outputs": [
    {
     "name": "stdout",
     "output_type": "stream",
     "text": [
      "PNG Images in PWD:\n",
      "/Users/bharxhav/Downloads/Control-V copy.png\n",
      "/Users/bharxhav/Downloads/Control-V.png\n",
      "/Users/bharxhav/Downloads/IMG_5343.png\n",
      "/Users/bharxhav/Downloads/LSTM_conformal_testing.png\n",
      "/Users/bharxhav/Downloads/LSTM_lower_bound_distrib.png\n",
      "/Users/bharxhav/Downloads/RF_conformal_testing.png\n",
      "/Users/bharxhav/Downloads/RF_lower_bound_distrib.png\n",
      "/Users/bharxhav/Downloads/RF_partialfit.png\n",
      "/Users/bharxhav/Downloads/SCR-20240226-jvtg.png\n",
      "/Users/bharxhav/Downloads/SCR-20240301-nlml.png\n",
      "/Users/bharxhav/Downloads/SCR-20240302-tqny.png\n",
      "/Users/bharxhav/Downloads/SCR-20240302-tqxv.png\n",
      "/Users/bharxhav/Downloads/SCR-20240302-trgr.png\n",
      "/Users/bharxhav/Downloads/SCR-20240302-trig.png\n",
      "/Users/bharxhav/Downloads/SCR-20240307-kscn.png\n",
      "/Users/bharxhav/Downloads/SCR-20240308-krvf.png\n",
      "/Users/bharxhav/Downloads/SCR-20240410-sxyg.png\n",
      "/Users/bharxhav/Downloads/SCR-20240517-iyhr.png\n",
      "/Users/bharxhav/Downloads/SCR-20240521-oldf.png\n",
      "/Users/bharxhav/Downloads/SCR-20240521-omcx.png\n",
      "/Users/bharxhav/Downloads/SCR-20240528-iuue.png\n",
      "/Users/bharxhav/Downloads/SCR-20240529-lzde.png\n",
      "/Users/bharxhav/Downloads/YourCard.png\n",
      "/Users/bharxhav/Downloads/aulab.png\n",
      "/Users/bharxhav/Downloads/download.png\n",
      "/Users/bharxhav/Downloads/fragrance wheel.png\n",
      "/Users/bharxhav/Downloads/image (1).png\n",
      "/Users/bharxhav/Downloads/image.png\n",
      "/Users/bharxhav/Downloads/milly.png\n",
      "/Users/bharxhav/Downloads/musical-note.png\n",
      "/Users/bharxhav/Downloads/output 1.png\n",
      "/Users/bharxhav/Downloads/sanskar.png\n",
      "/Users/bharxhav/Downloads/test.png\n",
      "/Users/bharxhav/Downloads/uhd-2d-stylized-illustration-in-pen-and-alcohol-ink-in-the-style-of-james-jean-tomer-hanuka-and-ta-7819090.png\n"
     ]
    },
    {
     "data": {
      "text/plain": [
       "<java object 'org.scijava.script.ScriptModule'>"
      ]
     },
     "execution_count": 54,
     "metadata": {},
     "output_type": "execute_result"
    }
   ],
   "source": [
    "ij.py.run_macro(macros[1])"
   ]
  },
  {
   "cell_type": "code",
   "execution_count": 55,
   "metadata": {},
   "outputs": [
    {
     "name": "stderr",
     "output_type": "stream",
     "text": [
      "Macro Error: Undefined identifier in line 15\n",
      " \n",
      "size = <min> ( width , height ) ; \n"
     ]
    },
    {
     "data": {
      "text/plain": [
       "<java object 'org.scijava.script.ScriptModule'>"
      ]
     },
     "execution_count": 55,
     "metadata": {},
     "output_type": "execute_result"
    }
   ],
   "source": [
    "ij.py.run_macro(macros[2])"
   ]
  },
  {
   "cell_type": "code",
   "execution_count": 56,
   "metadata": {},
   "outputs": [
    {
     "name": "stderr",
     "output_type": "stream",
     "text": [
      "Macro Error: Unrecognized command: \"Rotate 180 Degrees\" in line 13\n",
      " \n",
      "run ( \"Rotate 180 Degrees\" <)> ; \n"
     ]
    },
    {
     "data": {
      "text/plain": [
       "<java object 'org.scijava.script.ScriptModule'>"
      ]
     },
     "execution_count": 56,
     "metadata": {},
     "output_type": "execute_result"
    }
   ],
   "source": [
    "ij.py.run_macro(macros[3])"
   ]
  },
  {
   "cell_type": "code",
   "execution_count": null,
   "metadata": {},
   "outputs": [],
   "source": []
  }
 ],
 "metadata": {
  "kernelspec": {
   "display_name": "fiji",
   "language": "python",
   "name": "python3"
  },
  "language_info": {
   "codemirror_mode": {
    "name": "ipython",
    "version": 3
   },
   "file_extension": ".py",
   "mimetype": "text/x-python",
   "name": "python",
   "nbconvert_exporter": "python",
   "pygments_lexer": "ipython3",
   "version": "3.11.5"
  }
 },
 "nbformat": 4,
 "nbformat_minor": 2
}
