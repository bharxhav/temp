{
 "cells": [
  {
   "cell_type": "code",
   "execution_count": null,
   "metadata": {},
   "outputs": [],
   "source": [
    "import random\n",
    "from PIL import Image, ImageDraw\n",
    "\n",
    "\n",
    "def generate_image(output_path, size=(400, 400)):\n",
    "\n",
    "    image = Image.new('RGB', size, color='white')\n",
    "    draw = ImageDraw.Draw(image)\n",
    "\n",
    "    start = (random.randint(0, size[0]), random.randint(0, size[1]))\n",
    "    end = (random.randint(0, size[0]), random.randint(0, size[1]))\n",
    "\n",
    "    draw.line([start, end], fill='black', width=2)\n",
    "\n",
    "    image.save(output_path)\n",
    "\n",
    "\n",
    "generate_image('./temp.png')"
   ]
  },
  {
   "cell_type": "code",
   "execution_count": null,
   "metadata": {},
   "outputs": [],
   "source": [
    "import imagej\n",
    "import numpy as np\n",
    "from scyjava import jimport"
   ]
  },
  {
   "cell_type": "code",
   "execution_count": null,
   "metadata": {},
   "outputs": [],
   "source": [
    "ij = imagej.init(['net.imagej:imagej:2.1.0'], headless=True)\n",
    "\n",
    "image_path = \"./temp.png\""
   ]
  },
  {
   "cell_type": "code",
   "execution_count": null,
   "metadata": {},
   "outputs": [],
   "source": [
    "ij_image = ij.io().open(image_path)"
   ]
  },
  {
   "cell_type": "code",
   "execution_count": null,
   "metadata": {},
   "outputs": [],
   "source": [
    "ij.IJ.run(ij_image_plus, \"8-bit\", \"\")\n",
    "\n",
    "# Threshold the image to binary\n",
    "ij.IJ.setAutoThreshold(ij_image_plus, \"Default dark\")\n",
    "ij.IJ.run(ij_image_plus, \"Convert to Mask\", \"\")\n",
    "\n",
    "# Analyze particles to find the length of the black line\n",
    "ResultsTable = jimport('ij.measure.ResultsTable')\n",
    "ParticleAnalyzer = jimport('ij.plugin.filter.ParticleAnalyzer')\n",
    "Measurements = jimport('ij.measure.Measurements')\n",
    "\n",
    "rt = ResultsTable()\n",
    "options = ParticleAnalyzer.SHOW_RESULTS | ParticleAnalyzer.DISPLAY_SUMMARY\n",
    "measurements = Measurements.AREA | Measurements.PERIMETER | Measurements.FERET\n",
    "pa = ParticleAnalyzer(options, measurements, rt, 0, float('inf'))\n",
    "pa.analyze(ij_image_plus)\n",
    "\n",
    "# Find the maximum length from the results\n",
    "feret_column = rt.getColumn(\"Feret\")\n",
    "if feret_column is None:\n",
    "    raise ValueError(\"Feret diameter not found in results table.\")\n",
    "line_length = max(feret_column)\n",
    "\n",
    "print(f'The length of the black line is: {line_length:.2f} pixels')"
   ]
  },
  {
   "cell_type": "code",
   "execution_count": null,
   "metadata": {},
   "outputs": [],
   "source": []
  },
  {
   "cell_type": "code",
   "execution_count": 1,
   "metadata": {},
   "outputs": [],
   "source": [
    "import imagej\n",
    "import numpy as np\n",
    "\n",
    "ij = imagej.init('sc.fiji:fiji')"
   ]
  },
  {
   "cell_type": "code",
   "execution_count": 2,
   "metadata": {},
   "outputs": [],
   "source": [
    "img = ij.io().open('./temp.png')"
   ]
  },
  {
   "cell_type": "code",
   "execution_count": 5,
   "metadata": {},
   "outputs": [],
   "source": [
    "img_8bit = ij.op().convert().uint8(img)"
   ]
  },
  {
   "cell_type": "code",
   "execution_count": 7,
   "metadata": {},
   "outputs": [
    {
     "name": "stderr",
     "output_type": "stream",
     "text": [
      "Operating in headless mode - the IJ class will not be fully functional.\n"
     ]
    }
   ],
   "source": [
    "\n",
    "# Convert to ImagePlus\n",
    "imp = ij.py.to_imageplus(img_8bit)\n",
    "\n",
    "# Apply thresholding using ImageJ's built-in method\n",
    "ij.IJ.setAutoThreshold(imp, \"Default dark\")\n",
    "ij.IJ.run(imp, \"Convert to Mask\", \"\")\n",
    "\n",
    "# Get the binary image as a numpy array\n",
    "binary_np = ij.py.from_java(imp.getProcessor().getPixels())\n",
    "binary_np = binary_np.reshape(imp.getHeight(), imp.getWidth())\n",
    "\n",
    "# Find the coordinates of non-zero pixels (the line)\n",
    "y_coords, x_coords = np.nonzero(binary_np)"
   ]
  },
  {
   "cell_type": "code",
   "execution_count": 8,
   "metadata": {},
   "outputs": [
    {
     "name": "stdout",
     "output_type": "stream",
     "text": [
      "The length of the line is approximately 318801.50 pixels.\n"
     ]
    }
   ],
   "source": [
    "\n",
    "# Calculate the length of the line\n",
    "if len(x_coords) > 1:\n",
    "    # Calculate distances between consecutive points\n",
    "    distances = np.sqrt(np.diff(x_coords)**2 + np.diff(y_coords)**2)\n",
    "\n",
    "    # Sum up the distances to get the total length\n",
    "    line_length = np.sum(distances)\n",
    "\n",
    "    print(f\"The length of the line is approximately {line_length:.2f} pixels.\")\n",
    "else:\n",
    "    print(\"No line detected in the image.\")"
   ]
  },
  {
   "cell_type": "code",
   "execution_count": 9,
   "metadata": {},
   "outputs": [
    {
     "data": {
      "image/png": "[encoded data removed]",
      "text/plain": [
       "<Figure size 640x480 with 1 Axes>"
      ]
     },
     "metadata": {},
     "output_type": "display_data"
    }
   ],
   "source": [
    "\n",
    "# Display the binary image for verification\n",
    "ij.py.show(binary_np, cmap='gray')"
   ]
  },
  {
   "cell_type": "code",
   "execution_count": 11,
   "metadata": {},
   "outputs": [
    {
     "name": "stdout",
     "output_type": "stream",
     "text": [
      "Requirement already satisfied: scipy in c:\\users\\bharxhav\\user\\venvs\\fiji\\lib\\site-packages (1.14.0)\n",
      "Requirement already satisfied: numpy<2.3,>=1.23.5 in c:\\users\\bharxhav\\user\\venvs\\fiji\\lib\\site-packages (from scipy) (2.0.1)\n"
     ]
    }
   ],
   "source": [
    "!pip install scipy"
   ]
  },
  {
   "cell_type": "code",
   "execution_count": 12,
   "metadata": {},
   "outputs": [
    {
     "name": "stdout",
     "output_type": "stream",
     "text": [
      "The slope of the line is approximately -0.0008\n",
      "The angle of the line with respect to the horizontal is approximately -0.05 degrees\n"
     ]
    },
    {
     "data": {
      "image/png": "[encoded data removed]",
      "text/plain": [
       "<Figure size 640x480 with 1 Axes>"
      ]
     },
     "metadata": {},
     "output_type": "display_data"
    },
    {
     "data": {
      "image/png": "[encoded data removed]",
      "text/plain": [
       "<Figure size 640x480 with 1 Axes>"
      ]
     },
     "metadata": {},
     "output_type": "display_data"
    }
   ],
   "source": [
    "from scipy import stats\n",
    "\n",
    "img = ij.io().open('./temp.png')\n",
    "\n",
    "# Convert to 8-bit grayscale if it's not already\n",
    "img_8bit = ij.op().convert().uint8(img)\n",
    "\n",
    "# Convert to ImagePlus\n",
    "imp = ij.py.to_imageplus(img_8bit)\n",
    "\n",
    "# Apply thresholding using ImageJ's built-in method\n",
    "ij.IJ.setAutoThreshold(imp, \"Default dark\")\n",
    "ij.IJ.run(imp, \"Convert to Mask\", \"\")\n",
    "\n",
    "# Get the binary image as a numpy array\n",
    "binary_np = ij.py.from_java(imp.getProcessor().getPixels())\n",
    "binary_np = binary_np.reshape(imp.getHeight(), imp.getWidth())\n",
    "\n",
    "# Find the coordinates of non-zero pixels (the line)\n",
    "y_coords, x_coords = np.nonzero(binary_np)\n",
    "\n",
    "# Calculate the slope of the line\n",
    "if len(x_coords) > 1:\n",
    "    # Perform linear regression\n",
    "    slope, intercept, r_value, p_value, std_err = stats.linregress(\n",
    "        x_coords, y_coords)\n",
    "\n",
    "    # Calculate angle in degrees\n",
    "    angle = np.arctan(slope) * 180 / np.pi\n",
    "\n",
    "    print(f\"The slope of the line is approximately {slope:.4f}\")\n",
    "    print(f\"The angle of the line with respect to the horizontal is approximately {\n",
    "          angle:.2f} degrees\")\n",
    "\n",
    "    # Plot the results\n",
    "    import matplotlib.pyplot as plt\n",
    "    plt.imshow(binary_np, cmap='gray')\n",
    "    plt.plot(x_coords, slope * x_coords + intercept, color='red', linewidth=2)\n",
    "    plt.title('Line Detection and Slope Calculation')\n",
    "    plt.axis('equal')\n",
    "    plt.show()\n",
    "else:\n",
    "    print(\"No line detected in the image.\")\n",
    "\n",
    "# Display the binary image for verification\n",
    "ij.py.show(binary_np, cmap='gray')"
   ]
  },
  {
   "cell_type": "code",
   "execution_count": null,
   "metadata": {},
   "outputs": [],
   "source": []
  }
 ],
 "metadata": {
  "kernelspec": {
   "display_name": "base",
   "language": "python",
   "name": "python3"
  },
  "language_info": {
   "codemirror_mode": {
    "name": "ipython",
    "version": 3
   },
   "file_extension": ".py",
   "mimetype": "text/x-python",
   "name": "python",
   "nbconvert_exporter": "python",
   "pygments_lexer": "ipython3",
   "version": "3.12.4"
  }
 },
 "nbformat": 4,
 "nbformat_minor": 2
}
